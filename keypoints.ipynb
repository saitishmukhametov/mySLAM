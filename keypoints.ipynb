{
 "cells": [
  {
   "cell_type": "code",
   "execution_count": 2,
   "metadata": {},
   "outputs": [
    {
     "name": "stderr",
     "output_type": "stream",
     "text": [
      "Using cache found in C:\\Users\\Sayaz/.cache\\torch\\hub\\ultralytics_yolov5_master\n",
      "YOLOv5  2023-2-6 Python-3.9.7 torch-1.13.1+cpu CPU\n",
      "\n",
      "Fusing layers... \n",
      "YOLOv5s summary: 213 layers, 7225885 parameters, 0 gradients\n",
      "Adding AutoShape... \n"
     ]
    }
   ],
   "source": [
    "import cv2\n",
    "import numpy as np\n",
    "from frame_helper import generate_frames, extractFeatures, bfmatcher\n",
    "import torch\n",
    "\n",
    "vid_path = '5.hevc'\n",
    "kps_1 = None\n",
    "model = torch.hub.load('ultralytics/yolov5', 'yolov5s', pretrained=True, _verbose=False)\n",
    "model.classes = [2,3,4,6,7,8]\n",
    "model.conf = 0.2\n",
    "model.iou = 0.45\n",
    "\n",
    "for i, (p, c) in enumerate(generate_frames(vid_path)):\n",
    "  bb = model(p).xyxy[0].numpy()\n",
    "  bb = bb.astype(int)\n",
    "\n",
    "  for b in bb:\n",
    "    cv2.rectangle(c, (b[0],b[1]), (b[2],b[3]), (100,0,200), 2)\n",
    " \n",
    "  if kps_1 is not None:\n",
    "    kps_1, des_1 = kps_2, des_2\n",
    "  else:\n",
    "    kps_1, des_1 = extractFeatures(p)\n",
    "  kps_2, des_2 = extractFeatures(c)\n",
    "\n",
    "\n",
    "  good_kps = np.ones((len(kps_2)))\n",
    "  for i, kp in enumerate(kps_2):\n",
    "    for b in bb:\n",
    "      if b[0]<kp[0]<b[2] and b[1]<kp[1]<b[3]:\n",
    "        good_kps[i] = 0\n",
    "        break\n",
    "\n",
    "  kps_2 = kps_2[good_kps.astype(bool)]\n",
    "  des_2 = des_2[good_kps.astype(bool)]\n",
    "\n",
    "  p1, p2 = bfmatcher([kps_1, kps_2], [des_1, des_2], threshold=0.001)\n",
    "  \n",
    "  for p in p2:\n",
    "    cv2.circle(c, (int(p[0]), int(p[1])), 1, (255,255,0))  \n",
    "     \n",
    "  for k1, k2 in zip(p1, p2):\n",
    "    cv2.line(c, tuple(k1.astype(int)), tuple(k2.astype(int)), (0,200,200), 1)\n",
    "  cv2.imshow('v', c)\n",
    "  key = cv2.waitKey(1)\n",
    "  if key == ord('q'):\n",
    "    break\n",
    "\n",
    "cv2.destroyAllWindows()"
   ]
  }
 ],
 "metadata": {
  "kernelspec": {
   "display_name": "base",
   "language": "python",
   "name": "python3"
  },
  "language_info": {
   "codemirror_mode": {
    "name": "ipython",
    "version": 3
   },
   "file_extension": ".py",
   "mimetype": "text/x-python",
   "name": "python",
   "nbconvert_exporter": "python",
   "pygments_lexer": "ipython3",
   "version": "3.9.7"
  },
  "orig_nbformat": 4,
  "vscode": {
   "interpreter": {
    "hash": "4800ac1dff2557735fc0db4f1185ad1afe5e2a16df1d8003dabf188c324eab3a"
   }
  }
 },
 "nbformat": 4,
 "nbformat_minor": 2
}
