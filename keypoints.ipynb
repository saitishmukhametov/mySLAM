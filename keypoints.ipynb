{
 "cells": [
  {
   "cell_type": "code",
   "execution_count": 1,
   "metadata": {},
   "outputs": [
    {
     "ename": "AttributeError",
     "evalue": "'cv2.ORB' object has no attribute 'detectandcompute'",
     "output_type": "error",
     "traceback": [
      "\u001b[1;31m---------------------------------------------------------------------------\u001b[0m",
      "\u001b[1;31mAttributeError\u001b[0m                            Traceback (most recent call last)",
      "\u001b[1;32md:\\python exercises\\mySLAM\\keypoints.ipynb Cell 1\u001b[0m in \u001b[0;36m<module>\u001b[1;34m\u001b[0m\n\u001b[0;32m     <a href='vscode-notebook-cell:/d%3A/python%20exercises/mySLAM/keypoints.ipynb#W0sZmlsZQ%3D%3D?line=14'>15</a>\u001b[0m   kps_1, des_1 \u001b[39m=\u001b[39m kps_2, des_2\n\u001b[0;32m     <a href='vscode-notebook-cell:/d%3A/python%20exercises/mySLAM/keypoints.ipynb#W0sZmlsZQ%3D%3D?line=15'>16</a>\u001b[0m \u001b[39melse\u001b[39;00m:\n\u001b[1;32m---> <a href='vscode-notebook-cell:/d%3A/python%20exercises/mySLAM/keypoints.ipynb#W0sZmlsZQ%3D%3D?line=16'>17</a>\u001b[0m   kps_1, des_1 \u001b[39m=\u001b[39m extractFeatures(p)\n\u001b[0;32m     <a href='vscode-notebook-cell:/d%3A/python%20exercises/mySLAM/keypoints.ipynb#W0sZmlsZQ%3D%3D?line=17'>18</a>\u001b[0m kps_2, des_2 \u001b[39m=\u001b[39m extractFeatures(c)\n\u001b[0;32m     <a href='vscode-notebook-cell:/d%3A/python%20exercises/mySLAM/keypoints.ipynb#W0sZmlsZQ%3D%3D?line=19'>20</a>\u001b[0m p1, p2 \u001b[39m=\u001b[39m bfmatcher([kps_1, kps_2], [des_1, des_2])\n",
      "File \u001b[1;32md:\\python exercises\\mySLAM\\frame_helper.py:52\u001b[0m, in \u001b[0;36mextractFeatures\u001b[1;34m(frame)\u001b[0m\n\u001b[0;32m     49\u001b[0m orb \u001b[39m=\u001b[39m cv2\u001b[39m.\u001b[39mORB_create()\n\u001b[0;32m     51\u001b[0m \u001b[39m#kps = orb.detect(frame, None)\u001b[39;00m\n\u001b[1;32m---> 52\u001b[0m kps, des \u001b[39m=\u001b[39m orb\u001b[39m.\u001b[39;49mdetectandcompute(frame, kps)\n\u001b[0;32m     53\u001b[0m \u001b[39mreturn\u001b[39;00m np\u001b[39m.\u001b[39marray([(kp\u001b[39m.\u001b[39mpt[\u001b[39m0\u001b[39m], kp\u001b[39m.\u001b[39mpt[\u001b[39m1\u001b[39m]) \u001b[39mfor\u001b[39;00m kp \u001b[39min\u001b[39;00m kps]), np\u001b[39m.\u001b[39marray(des)\n",
      "\u001b[1;31mAttributeError\u001b[0m: 'cv2.ORB' object has no attribute 'detectandcompute'"
     ]
    }
   ],
   "source": [
    "import cv2\n",
    "import numpy as np\n",
    "from itertools import count\n",
    "from skimage.measure import ransac\n",
    "from skimage.transform import FundamentalMatrixTransform, EssentialMatrixTransform\n",
    "import matplotlib.pyplot as plt\n",
    "from frame_helper import generate_frames, extractFeatures, bfmatcher\n",
    "\n",
    "vid_path = 'test_freiburgrpy525.mp4'\n",
    "kps_1 = None\n",
    "\n",
    "for i, (p, c) in enumerate(generate_frames(vid_path)):\n",
    "\n",
    "  if kps_1 is not None:\n",
    "    kps_1, des_1 = kps_2, des_2\n",
    "  else:\n",
    "    kps_1, des_1 = extractFeatures(p)\n",
    "  kps_2, des_2 = extractFeatures(c)\n",
    "\n",
    "  p1, p2 = bfmatcher([kps_1, kps_2], [des_1, des_2])\n",
    "  \n",
    "  for p in p2:\n",
    "    cv2.circle(c, (int(p[0]), int(p[1])), 1, (255,255,0))  \n",
    "     \n",
    "  for k1, k2 in zip(p1, p2):\n",
    "    cv2.line(c, tuple(k1.astype(int)), tuple(k2.astype(int)), (0,200,200), 1)\n",
    "  cv2.imshow('v', c)\n",
    "  key = cv2.waitKey(1)\n",
    "  if key == ord('q'):\n",
    "    break\n",
    "\n",
    "cv2.destroyAllWindows()\n"
   ]
  }
 ],
 "metadata": {
  "kernelspec": {
   "display_name": "base",
   "language": "python",
   "name": "python3"
  },
  "language_info": {
   "codemirror_mode": {
    "name": "ipython",
    "version": 3
   },
   "file_extension": ".py",
   "mimetype": "text/x-python",
   "name": "python",
   "nbconvert_exporter": "python",
   "pygments_lexer": "ipython3",
   "version": "3.9.7"
  },
  "orig_nbformat": 4,
  "vscode": {
   "interpreter": {
    "hash": "4800ac1dff2557735fc0db4f1185ad1afe5e2a16df1d8003dabf188c324eab3a"
   }
  }
 },
 "nbformat": 4,
 "nbformat_minor": 2
}
