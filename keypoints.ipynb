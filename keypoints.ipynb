{
 "cells": [
  {
   "cell_type": "code",
   "execution_count": 5,
   "metadata": {},
   "outputs": [],
   "source": [
    "import cv2\n",
    "import numpy as np\n",
    "from itertools import count\n",
    "from skimage.measure import ransac\n",
    "from skimage.transform import FundamentalMatrixTransform, EssentialMatrixTransform\n",
    "\n",
    "vid_path = '5.hevc'\n",
    "\n",
    "def generate_frames(vid_path):\n",
    "    video = cv2.VideoCapture(vid_path, cv2.CAP_FFMPEG)\n",
    "    _, prev_frame = video.read()\n",
    "    for t in count():\n",
    "      ret, curr_frame = video.read()\n",
    "      if not ret:\n",
    "        break\n",
    "      yield prev_frame, curr_frame\n",
    "      prev_frame = curr_frame\n",
    "    video.release()\n",
    "    cv2.destroyAllWindows()\n",
    "\n",
    "def extractFeatures(frame):\n",
    "  orb = cv2.ORB_create()\n",
    "  # only works on b/w images\n",
    "  pts = cv2.goodFeaturesToTrack(np.mean(frame,axis=2).astype(np.uint8), 3000, 0.01, minDistance=7)\n",
    "  kps = [cv2.KeyPoint(x=f[0][0], y=f[0][1], size=10) for f in pts]\n",
    "  kps, des = orb.compute(frame, kps)\n",
    "  return np.array([(kp.pt[0], kp.pt[1]) for kp in kps]), des\n",
    "\n",
    "def bfmatcher(kps, dess):\n",
    "  bf = cv2.BFMatcher(cv2.NORM_HAMMING)\n",
    "  matches = bf.knnMatch(dess[0], dess[1], k=2)\n",
    "  res = []\n",
    "  for m,n in matches:\n",
    "      if m.distance < 0.75 * n.distance:\n",
    "          kp1 = kps[0][m.queryIdx]\n",
    "          kp2 = kps[1][m.trainIdx]\n",
    "          res.append((kp1, kp2))\n",
    "  res = np.array(res)\n",
    "  \n",
    "  model, inliers = ransac((res[:,0],\n",
    "                          res[:,1]),\n",
    "                          FundamentalMatrixTransform, \n",
    "                          #EssentialMatrixTransform,\n",
    "                          min_samples=8,\n",
    "                          residual_threshold=0.5, \n",
    "                          max_trials=1000)\n",
    "\n",
    "  return res[inliers, 0], res[inliers, 1]\n",
    "\n",
    "w = 1164\n",
    "h = 874\n",
    "F = 910\n",
    "\n",
    "K = [[F, 0, w//2],\n",
    "     [0, F, h//2],\n",
    "     [0, 0, 1]]\n",
    "\n",
    "def normalize(x):\n",
    "  x[:,0] -= w//2\n",
    "  x[:,1] -= h//2  \n",
    "def denormalize(x):\n",
    "  x[:,0] += w//2\n",
    "  x[:,1] += h//2"
   ]
  },
  {
   "cell_type": "code",
   "execution_count": 6,
   "metadata": {},
   "outputs": [],
   "source": [
    "for p, c in generate_frames(vid_path):\n",
    "\n",
    "  kps_1, des_1 = extractFeatures(p)\n",
    "  kps_2, des_2 = extractFeatures(c)\n",
    "\n",
    "  p1, p2 = bfmatcher([kps_1, kps_2], [des_1, des_2])\n",
    "  \n",
    "  for p in p2:\n",
    "    cv2.circle(c, (int(p[0]), int(p[1])), 1, (255,255,0)) \n",
    "  \n",
    "  for k1, k2 in zip(p1, p2):\n",
    "    cv2.line(c, tuple(k1.astype(int)), tuple(k2.astype(int)), (0,200,200), 1)\n",
    "\n",
    "  cv2.imshow('v', c)\n",
    "  key = cv2.waitKey(1)\n",
    "  if key == ord('q'):\n",
    "    break\n",
    "  \n",
    "cv2.destroyAllWindows()"
   ]
  }
 ],
 "metadata": {
  "kernelspec": {
   "display_name": "base",
   "language": "python",
   "name": "python3"
  },
  "language_info": {
   "codemirror_mode": {
    "name": "ipython",
    "version": 3
   },
   "file_extension": ".py",
   "mimetype": "text/x-python",
   "name": "python",
   "nbconvert_exporter": "python",
   "pygments_lexer": "ipython3",
   "version": "3.9.7"
  },
  "orig_nbformat": 4,
  "vscode": {
   "interpreter": {
    "hash": "4800ac1dff2557735fc0db4f1185ad1afe5e2a16df1d8003dabf188c324eab3a"
   }
  }
 },
 "nbformat": 4,
 "nbformat_minor": 2
}
